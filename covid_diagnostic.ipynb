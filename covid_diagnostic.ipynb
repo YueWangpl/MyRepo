{
  "nbformat": 4,
  "nbformat_minor": 0,
  "metadata": {
    "accelerator": "GPU",
    "colab": {
      "name": "covid_diagnostic.ipynb",
      "provenance": [],
      "collapsed_sections": []
    },
    "file_extension": ".py",
    "kernelspec": {
      "display_name": "Python 3",
      "name": "python3"
    },
    "mimetype": "text/x-python",
    "name": "python",
    "npconvert_exporter": "python",
    "pygments_lexer": "ipython3",
    "version": 3
  },
  "cells": [
    {
      "cell_type": "markdown",
      "metadata": {
        "id": "WSMO2e0Ca3tU"
      },
      "source": [
        "## **Covid Diagnosis Using Chest X-Ray Data**\n",
        "***Important***: Before starting this question, please copy the folder into your own Google Drive, which you can do by downloading and then uploading to your Drive, or by doing `File > Save a Copy in Drive`."
      ]
    },
    {
      "cell_type": "markdown",
      "metadata": {
        "id": "n_Kecj9IbFCT"
      },
      "source": [
        "### Introduction\n",
        "COVID-19 is severely impacting the health of countless people worldwide. A crucial step in controlling the disease has been early detection of infected patients, which can be achieved through radiography, according to prior literature that shows COVID-19 causes chest abnormalities noticeable in chest X-rays. With this in mind, you will build a model that learns chest abnormalities and predicts whether a patient has COVID-19 based on his/her chest X-ray. To do this, you will utilize transfer learning."
      ]
    },
    {
      "cell_type": "markdown",
      "metadata": {
        "id": "u3tF64VybOiZ"
      },
      "source": [
        "We begin by importing necessary packages for this model. You will need to import more packages along the way, so feel free to add to this list or import as you go.\n"
      ]
    },
    {
      "cell_type": "code",
      "metadata": {
        "id": "ZKzt0tiAbYLY"
      },
      "source": [
        "import cv2\n",
        "import os\n",
        "import numpy as np"
      ],
      "execution_count": null,
      "outputs": []
    },
    {
      "cell_type": "markdown",
      "metadata": {
        "id": "zd6HN-95LqYr"
      },
      "source": [
        "###Data Collection\n",
        "There is no substantially-sized, clinically verified, and publicly available COVID-19 dataset. However, a small composite dataset with X-Rays of COVID-19 positive patients recently became publicly available with [DeepCovid](https://github.com/shervinmin/DeepCovid), which compiled their data from:\n",
        "\n",
        "[Covid-Chestxray-Dataset](https://github.com/ieee8023/covid-chestxray-dataset) for COVID-19 X-ray samples\n",
        "\n",
        "[ChexPert Dataset](https://stanfordmlgroup.github.io/competitions/chexpert/) for Non-COVID samples\n",
        "\n",
        "If you do not have Google Colab Pro, it is highly recommended that you invest in this resource if you haven't already; however, this is not required, as you will not use the entire data set, but instead work with a subset of the data that we have compressed for you. To access this data, which is in the midterm folder in your Drive, you must begin by connecting to your Drive."
      ]
    },
    {
      "cell_type": "code",
      "metadata": {
        "id": "4VyDyG1pJHZ9",
        "colab": {
          "base_uri": "https://localhost:8080/"
        },
        "outputId": "4d175bbe-bcbc-4368-d0ec-867aadb79cb7"
      },
      "source": [
        "from google.colab import drive\n",
        "drive.mount('/content/drive')"
      ],
      "execution_count": null,
      "outputs": [
        {
          "output_type": "stream",
          "text": [
            "Mounted at /content/drive\n"
          ],
          "name": "stdout"
        }
      ]
    },
    {
      "cell_type": "markdown",
      "metadata": {
        "id": "5QAZ_MQOOBet"
      },
      "source": [
        "Now that we have connected our Colab to our Drive, we can find the path to the data.zip file and unzip it with ZipFile."
      ]
    },
    {
      "cell_type": "code",
      "metadata": {
        "id": "GaQiCm9YJbw0",
        "colab": {
          "base_uri": "https://localhost:8080/"
        },
        "outputId": "caa1eb2a-7caf-4bb6-a565-308b647e1d0a"
      },
      "source": [
        "from zipfile import ZipFile\n",
        "\n",
        "file_name = 'drive/My Drive/Midterm/dataset.zip'\n",
        "\n",
        "with ZipFile(file_name, 'r') as zip:\n",
        "  zip.extractall('drive/My Drive/Midterm/dataset')\n",
        "  print(\"Data extracted!\")"
      ],
      "execution_count": null,
      "outputs": [
        {
          "output_type": "stream",
          "text": [
            "Data extracted!\n"
          ],
          "name": "stdout"
        }
      ]
    },
    {
      "cell_type": "code",
      "metadata": {
        "colab": {
          "base_uri": "https://localhost:8080/"
        },
        "id": "J49a13qRDnau",
        "outputId": "c3955bc9-3d35-4cdc-ac10-69e768d79eaa"
      },
      "source": [
        "image = cv2.imread('drive/My Drive/Midterm/dataset/dataset/covid/000001-1.jpg')\r\n",
        "image.shape"
      ],
      "execution_count": null,
      "outputs": [
        {
          "output_type": "execute_result",
          "data": {
            "text/plain": [
              "(768, 968, 3)"
            ]
          },
          "metadata": {
            "tags": []
          },
          "execution_count": 7
        }
      ]
    },
    {
      "cell_type": "markdown",
      "metadata": {
        "id": "4VmIvYDDRJR6"
      },
      "source": [
        "Next, let us begin feature and label building. We can utilize Paths to \n",
        "list the directory of every X-Ray from the dataset."
      ]
    },
    {
      "cell_type": "code",
      "metadata": {
        "id": "rO_jTgD5H1Zo"
      },
      "source": [
        "from imutils import paths\n",
        "\n",
        "data = []\n",
        "labels = []\n",
        "\n",
        "#TODO: Grab list of image paths using paths.list_images\n",
        "imagePaths = sorted(list(paths.list_images(\"drive/My Drive/Midterm/dataset/dataset/\")))"
      ],
      "execution_count": null,
      "outputs": []
    },
    {
      "cell_type": "code",
      "metadata": {
        "id": "n3aQDlGbF0XN"
      },
      "source": [
        "#TODO: Create a list of labels and image data by looping over the image paths\r\n",
        "#Hint: You can extract the class label based on the image's filepath\r\n",
        "#NOTE: Before adding the image to your list of images, you should do some preprocessing\r\n",
        "#      Think about what the input of ResNet is; specifically, think about color \r\n",
        "#      channels and resizing (use cv2!).\r\n",
        "\r\n",
        "for imagePath in imagePaths:\r\n",
        "\t# extract the class label from the filename\r\n",
        "  label = imagePath.split(\"/\")[-2]\r\n",
        "\r\n",
        "  image = cv2.imread(imagePath)\r\n",
        "  image = cv2.resize(image, (224, 224))\r\n",
        "  image = cv2.cvtColor(image, cv2.COLOR_BGR2RGB)\r\n",
        "\r\n",
        "\r\n",
        "  data.append(image)\r\n",
        "  labels.append(label)"
      ],
      "execution_count": null,
      "outputs": []
    },
    {
      "cell_type": "code",
      "metadata": {
        "colab": {
          "base_uri": "https://localhost:8080/",
          "height": 35
        },
        "id": "6hhjt5ZDHSRS",
        "outputId": "a09c1fbd-fc12-4fba-a35a-21abc8a5c1c9"
      },
      "source": [
        "s = 'drive/My Drive/Midterm/dataset/dataset/covid/aspiration-pneumonia-5-day0.jpg'\r\n",
        "s.split(\"/\")[-2]"
      ],
      "execution_count": null,
      "outputs": [
        {
          "output_type": "execute_result",
          "data": {
            "application/vnd.google.colaboratory.intrinsic+json": {
              "type": "string"
            },
            "text/plain": [
              "'covid'"
            ]
          },
          "metadata": {
            "tags": []
          },
          "execution_count": 13
        }
      ]
    },
    {
      "cell_type": "markdown",
      "metadata": {
        "id": "0920nm76d4Hs"
      },
      "source": [
        "Yikes, we're using a Python list to hold our data. Let's convert that to a Numpy Array and normalize the pixel values."
      ]
    },
    {
      "cell_type": "code",
      "metadata": {
        "id": "6QNL7ibcdzIj"
      },
      "source": [
        "data = np.array(data) / 255.0\n",
        "labels = np.array(labels)"
      ],
      "execution_count": null,
      "outputs": []
    },
    {
      "cell_type": "markdown",
      "metadata": {
        "id": "n3zmzxdQd9ON"
      },
      "source": [
        "Our labels still need a little help. Let's use SKLearn to one-hot encode our labels."
      ]
    },
    {
      "cell_type": "code",
      "metadata": {
        "id": "0J2yOK7md_y6"
      },
      "source": [
        "from sklearn.preprocessing import LabelBinarizer\n",
        "from tensorflow.keras.utils import to_categorical\n",
        "\n",
        "lb = LabelBinarizer()\n",
        "labels = lb.fit_transform(labels)\n",
        "labels = to_categorical(labels)"
      ],
      "execution_count": null,
      "outputs": []
    },
    {
      "cell_type": "markdown",
      "metadata": {
        "id": "bHZEuVVDeBv9"
      },
      "source": [
        "### Data Splitting\n",
        "Now that we're done grabbing our data, we can begin to look at splitting the data into our training and validation sets."
      ]
    },
    {
      "cell_type": "code",
      "metadata": {
        "id": "FK0h4tnQeH56"
      },
      "source": [
        "from sklearn.model_selection import train_test_split\n",
        "#TODO: Partition data into 85% training and 15% validation\n",
        "\n",
        "(trainX, testX, trainY, testY) = train_test_split(data, labels, test_size=0.15, random_state=42)"
      ],
      "execution_count": null,
      "outputs": []
    },
    {
      "cell_type": "markdown",
      "metadata": {
        "id": "_echi_0APEis"
      },
      "source": [
        "### Set hyperparameters\n",
        "Before building the model, it's always important to set your relevant hyperparameters."
      ]
    },
    {
      "cell_type": "code",
      "metadata": {
        "id": "FweemVCFPH9c"
      },
      "source": [
        "EPOCHS = 20\n",
        "BATCH_SIZE = 16\n",
        "LR = 1e-4"
      ],
      "execution_count": null,
      "outputs": []
    },
    {
      "cell_type": "markdown",
      "metadata": {
        "id": "YByvq-9oRwn_"
      },
      "source": [
        "### Base model\n",
        "Let's load our ResNet model. Our pretrained weights should come from imagenet, and our input is (224,224,3) as mentioned earlier. Make sure to not include the fully-connected layers of the model as we are dealing with different output dimensions!"
      ]
    },
    {
      "cell_type": "code",
      "metadata": {
        "id": "InLljPNaeYI2",
        "colab": {
          "base_uri": "https://localhost:8080/"
        },
        "outputId": "ab76d748-8255-421f-e8fb-9a1bec63b49a"
      },
      "source": [
        "#TODO: load in Resnet\n",
        "# from tensorflow.keras.applications import VGG16\n",
        "from tensorflow.keras.applications import ResNet50\n",
        "from tensorflow.keras.layers import Input\n",
        "\n",
        "input_ = Input(shape=(224, 224, 3))\n",
        "base = ResNet50(include_top = False, \n",
        "                weights='imagenet',\n",
        "                input_tensor = input_)\n",
        "\n",
        "base.summary()"
      ],
      "execution_count": null,
      "outputs": [
        {
          "output_type": "stream",
          "text": [
            "Model: \"resnet50\"\n",
            "__________________________________________________________________________________________________\n",
            "Layer (type)                    Output Shape         Param #     Connected to                     \n",
            "==================================================================================================\n",
            "input_1 (InputLayer)            [(None, 224, 224, 3) 0                                            \n",
            "__________________________________________________________________________________________________\n",
            "conv1_pad (ZeroPadding2D)       (None, 230, 230, 3)  0           input_1[0][0]                    \n",
            "__________________________________________________________________________________________________\n",
            "conv1_conv (Conv2D)             (None, 112, 112, 64) 9472        conv1_pad[0][0]                  \n",
            "__________________________________________________________________________________________________\n",
            "conv1_bn (BatchNormalization)   (None, 112, 112, 64) 256         conv1_conv[0][0]                 \n",
            "__________________________________________________________________________________________________\n",
            "conv1_relu (Activation)         (None, 112, 112, 64) 0           conv1_bn[0][0]                   \n",
            "__________________________________________________________________________________________________\n",
            "pool1_pad (ZeroPadding2D)       (None, 114, 114, 64) 0           conv1_relu[0][0]                 \n",
            "__________________________________________________________________________________________________\n",
            "pool1_pool (MaxPooling2D)       (None, 56, 56, 64)   0           pool1_pad[0][0]                  \n",
            "__________________________________________________________________________________________________\n",
            "conv2_block1_1_conv (Conv2D)    (None, 56, 56, 64)   4160        pool1_pool[0][0]                 \n",
            "__________________________________________________________________________________________________\n",
            "conv2_block1_1_bn (BatchNormali (None, 56, 56, 64)   256         conv2_block1_1_conv[0][0]        \n",
            "__________________________________________________________________________________________________\n",
            "conv2_block1_1_relu (Activation (None, 56, 56, 64)   0           conv2_block1_1_bn[0][0]          \n",
            "__________________________________________________________________________________________________\n",
            "conv2_block1_2_conv (Conv2D)    (None, 56, 56, 64)   36928       conv2_block1_1_relu[0][0]        \n",
            "__________________________________________________________________________________________________\n",
            "conv2_block1_2_bn (BatchNormali (None, 56, 56, 64)   256         conv2_block1_2_conv[0][0]        \n",
            "__________________________________________________________________________________________________\n",
            "conv2_block1_2_relu (Activation (None, 56, 56, 64)   0           conv2_block1_2_bn[0][0]          \n",
            "__________________________________________________________________________________________________\n",
            "conv2_block1_0_conv (Conv2D)    (None, 56, 56, 256)  16640       pool1_pool[0][0]                 \n",
            "__________________________________________________________________________________________________\n",
            "conv2_block1_3_conv (Conv2D)    (None, 56, 56, 256)  16640       conv2_block1_2_relu[0][0]        \n",
            "__________________________________________________________________________________________________\n",
            "conv2_block1_0_bn (BatchNormali (None, 56, 56, 256)  1024        conv2_block1_0_conv[0][0]        \n",
            "__________________________________________________________________________________________________\n",
            "conv2_block1_3_bn (BatchNormali (None, 56, 56, 256)  1024        conv2_block1_3_conv[0][0]        \n",
            "__________________________________________________________________________________________________\n",
            "conv2_block1_add (Add)          (None, 56, 56, 256)  0           conv2_block1_0_bn[0][0]          \n",
            "                                                                 conv2_block1_3_bn[0][0]          \n",
            "__________________________________________________________________________________________________\n",
            "conv2_block1_out (Activation)   (None, 56, 56, 256)  0           conv2_block1_add[0][0]           \n",
            "__________________________________________________________________________________________________\n",
            "conv2_block2_1_conv (Conv2D)    (None, 56, 56, 64)   16448       conv2_block1_out[0][0]           \n",
            "__________________________________________________________________________________________________\n",
            "conv2_block2_1_bn (BatchNormali (None, 56, 56, 64)   256         conv2_block2_1_conv[0][0]        \n",
            "__________________________________________________________________________________________________\n",
            "conv2_block2_1_relu (Activation (None, 56, 56, 64)   0           conv2_block2_1_bn[0][0]          \n",
            "__________________________________________________________________________________________________\n",
            "conv2_block2_2_conv (Conv2D)    (None, 56, 56, 64)   36928       conv2_block2_1_relu[0][0]        \n",
            "__________________________________________________________________________________________________\n",
            "conv2_block2_2_bn (BatchNormali (None, 56, 56, 64)   256         conv2_block2_2_conv[0][0]        \n",
            "__________________________________________________________________________________________________\n",
            "conv2_block2_2_relu (Activation (None, 56, 56, 64)   0           conv2_block2_2_bn[0][0]          \n",
            "__________________________________________________________________________________________________\n",
            "conv2_block2_3_conv (Conv2D)    (None, 56, 56, 256)  16640       conv2_block2_2_relu[0][0]        \n",
            "__________________________________________________________________________________________________\n",
            "conv2_block2_3_bn (BatchNormali (None, 56, 56, 256)  1024        conv2_block2_3_conv[0][0]        \n",
            "__________________________________________________________________________________________________\n",
            "conv2_block2_add (Add)          (None, 56, 56, 256)  0           conv2_block1_out[0][0]           \n",
            "                                                                 conv2_block2_3_bn[0][0]          \n",
            "__________________________________________________________________________________________________\n",
            "conv2_block2_out (Activation)   (None, 56, 56, 256)  0           conv2_block2_add[0][0]           \n",
            "__________________________________________________________________________________________________\n",
            "conv2_block3_1_conv (Conv2D)    (None, 56, 56, 64)   16448       conv2_block2_out[0][0]           \n",
            "__________________________________________________________________________________________________\n",
            "conv2_block3_1_bn (BatchNormali (None, 56, 56, 64)   256         conv2_block3_1_conv[0][0]        \n",
            "__________________________________________________________________________________________________\n",
            "conv2_block3_1_relu (Activation (None, 56, 56, 64)   0           conv2_block3_1_bn[0][0]          \n",
            "__________________________________________________________________________________________________\n",
            "conv2_block3_2_conv (Conv2D)    (None, 56, 56, 64)   36928       conv2_block3_1_relu[0][0]        \n",
            "__________________________________________________________________________________________________\n",
            "conv2_block3_2_bn (BatchNormali (None, 56, 56, 64)   256         conv2_block3_2_conv[0][0]        \n",
            "__________________________________________________________________________________________________\n",
            "conv2_block3_2_relu (Activation (None, 56, 56, 64)   0           conv2_block3_2_bn[0][0]          \n",
            "__________________________________________________________________________________________________\n",
            "conv2_block3_3_conv (Conv2D)    (None, 56, 56, 256)  16640       conv2_block3_2_relu[0][0]        \n",
            "__________________________________________________________________________________________________\n",
            "conv2_block3_3_bn (BatchNormali (None, 56, 56, 256)  1024        conv2_block3_3_conv[0][0]        \n",
            "__________________________________________________________________________________________________\n",
            "conv2_block3_add (Add)          (None, 56, 56, 256)  0           conv2_block2_out[0][0]           \n",
            "                                                                 conv2_block3_3_bn[0][0]          \n",
            "__________________________________________________________________________________________________\n",
            "conv2_block3_out (Activation)   (None, 56, 56, 256)  0           conv2_block3_add[0][0]           \n",
            "__________________________________________________________________________________________________\n",
            "conv3_block1_1_conv (Conv2D)    (None, 28, 28, 128)  32896       conv2_block3_out[0][0]           \n",
            "__________________________________________________________________________________________________\n",
            "conv3_block1_1_bn (BatchNormali (None, 28, 28, 128)  512         conv3_block1_1_conv[0][0]        \n",
            "__________________________________________________________________________________________________\n",
            "conv3_block1_1_relu (Activation (None, 28, 28, 128)  0           conv3_block1_1_bn[0][0]          \n",
            "__________________________________________________________________________________________________\n",
            "conv3_block1_2_conv (Conv2D)    (None, 28, 28, 128)  147584      conv3_block1_1_relu[0][0]        \n",
            "__________________________________________________________________________________________________\n",
            "conv3_block1_2_bn (BatchNormali (None, 28, 28, 128)  512         conv3_block1_2_conv[0][0]        \n",
            "__________________________________________________________________________________________________\n",
            "conv3_block1_2_relu (Activation (None, 28, 28, 128)  0           conv3_block1_2_bn[0][0]          \n",
            "__________________________________________________________________________________________________\n",
            "conv3_block1_0_conv (Conv2D)    (None, 28, 28, 512)  131584      conv2_block3_out[0][0]           \n",
            "__________________________________________________________________________________________________\n",
            "conv3_block1_3_conv (Conv2D)    (None, 28, 28, 512)  66048       conv3_block1_2_relu[0][0]        \n",
            "__________________________________________________________________________________________________\n",
            "conv3_block1_0_bn (BatchNormali (None, 28, 28, 512)  2048        conv3_block1_0_conv[0][0]        \n",
            "__________________________________________________________________________________________________\n",
            "conv3_block1_3_bn (BatchNormali (None, 28, 28, 512)  2048        conv3_block1_3_conv[0][0]        \n",
            "__________________________________________________________________________________________________\n",
            "conv3_block1_add (Add)          (None, 28, 28, 512)  0           conv3_block1_0_bn[0][0]          \n",
            "                                                                 conv3_block1_3_bn[0][0]          \n",
            "__________________________________________________________________________________________________\n",
            "conv3_block1_out (Activation)   (None, 28, 28, 512)  0           conv3_block1_add[0][0]           \n",
            "__________________________________________________________________________________________________\n",
            "conv3_block2_1_conv (Conv2D)    (None, 28, 28, 128)  65664       conv3_block1_out[0][0]           \n",
            "__________________________________________________________________________________________________\n",
            "conv3_block2_1_bn (BatchNormali (None, 28, 28, 128)  512         conv3_block2_1_conv[0][0]        \n",
            "__________________________________________________________________________________________________\n",
            "conv3_block2_1_relu (Activation (None, 28, 28, 128)  0           conv3_block2_1_bn[0][0]          \n",
            "__________________________________________________________________________________________________\n",
            "conv3_block2_2_conv (Conv2D)    (None, 28, 28, 128)  147584      conv3_block2_1_relu[0][0]        \n",
            "__________________________________________________________________________________________________\n",
            "conv3_block2_2_bn (BatchNormali (None, 28, 28, 128)  512         conv3_block2_2_conv[0][0]        \n",
            "__________________________________________________________________________________________________\n",
            "conv3_block2_2_relu (Activation (None, 28, 28, 128)  0           conv3_block2_2_bn[0][0]          \n",
            "__________________________________________________________________________________________________\n",
            "conv3_block2_3_conv (Conv2D)    (None, 28, 28, 512)  66048       conv3_block2_2_relu[0][0]        \n",
            "__________________________________________________________________________________________________\n",
            "conv3_block2_3_bn (BatchNormali (None, 28, 28, 512)  2048        conv3_block2_3_conv[0][0]        \n",
            "__________________________________________________________________________________________________\n",
            "conv3_block2_add (Add)          (None, 28, 28, 512)  0           conv3_block1_out[0][0]           \n",
            "                                                                 conv3_block2_3_bn[0][0]          \n",
            "__________________________________________________________________________________________________\n",
            "conv3_block2_out (Activation)   (None, 28, 28, 512)  0           conv3_block2_add[0][0]           \n",
            "__________________________________________________________________________________________________\n",
            "conv3_block3_1_conv (Conv2D)    (None, 28, 28, 128)  65664       conv3_block2_out[0][0]           \n",
            "__________________________________________________________________________________________________\n",
            "conv3_block3_1_bn (BatchNormali (None, 28, 28, 128)  512         conv3_block3_1_conv[0][0]        \n",
            "__________________________________________________________________________________________________\n",
            "conv3_block3_1_relu (Activation (None, 28, 28, 128)  0           conv3_block3_1_bn[0][0]          \n",
            "__________________________________________________________________________________________________\n",
            "conv3_block3_2_conv (Conv2D)    (None, 28, 28, 128)  147584      conv3_block3_1_relu[0][0]        \n",
            "__________________________________________________________________________________________________\n",
            "conv3_block3_2_bn (BatchNormali (None, 28, 28, 128)  512         conv3_block3_2_conv[0][0]        \n",
            "__________________________________________________________________________________________________\n",
            "conv3_block3_2_relu (Activation (None, 28, 28, 128)  0           conv3_block3_2_bn[0][0]          \n",
            "__________________________________________________________________________________________________\n",
            "conv3_block3_3_conv (Conv2D)    (None, 28, 28, 512)  66048       conv3_block3_2_relu[0][0]        \n",
            "__________________________________________________________________________________________________\n",
            "conv3_block3_3_bn (BatchNormali (None, 28, 28, 512)  2048        conv3_block3_3_conv[0][0]        \n",
            "__________________________________________________________________________________________________\n",
            "conv3_block3_add (Add)          (None, 28, 28, 512)  0           conv3_block2_out[0][0]           \n",
            "                                                                 conv3_block3_3_bn[0][0]          \n",
            "__________________________________________________________________________________________________\n",
            "conv3_block3_out (Activation)   (None, 28, 28, 512)  0           conv3_block3_add[0][0]           \n",
            "__________________________________________________________________________________________________\n",
            "conv3_block4_1_conv (Conv2D)    (None, 28, 28, 128)  65664       conv3_block3_out[0][0]           \n",
            "__________________________________________________________________________________________________\n",
            "conv3_block4_1_bn (BatchNormali (None, 28, 28, 128)  512         conv3_block4_1_conv[0][0]        \n",
            "__________________________________________________________________________________________________\n",
            "conv3_block4_1_relu (Activation (None, 28, 28, 128)  0           conv3_block4_1_bn[0][0]          \n",
            "__________________________________________________________________________________________________\n",
            "conv3_block4_2_conv (Conv2D)    (None, 28, 28, 128)  147584      conv3_block4_1_relu[0][0]        \n",
            "__________________________________________________________________________________________________\n",
            "conv3_block4_2_bn (BatchNormali (None, 28, 28, 128)  512         conv3_block4_2_conv[0][0]        \n",
            "__________________________________________________________________________________________________\n",
            "conv3_block4_2_relu (Activation (None, 28, 28, 128)  0           conv3_block4_2_bn[0][0]          \n",
            "__________________________________________________________________________________________________\n",
            "conv3_block4_3_conv (Conv2D)    (None, 28, 28, 512)  66048       conv3_block4_2_relu[0][0]        \n",
            "__________________________________________________________________________________________________\n",
            "conv3_block4_3_bn (BatchNormali (None, 28, 28, 512)  2048        conv3_block4_3_conv[0][0]        \n",
            "__________________________________________________________________________________________________\n",
            "conv3_block4_add (Add)          (None, 28, 28, 512)  0           conv3_block3_out[0][0]           \n",
            "                                                                 conv3_block4_3_bn[0][0]          \n",
            "__________________________________________________________________________________________________\n",
            "conv3_block4_out (Activation)   (None, 28, 28, 512)  0           conv3_block4_add[0][0]           \n",
            "__________________________________________________________________________________________________\n",
            "conv4_block1_1_conv (Conv2D)    (None, 14, 14, 256)  131328      conv3_block4_out[0][0]           \n",
            "__________________________________________________________________________________________________\n",
            "conv4_block1_1_bn (BatchNormali (None, 14, 14, 256)  1024        conv4_block1_1_conv[0][0]        \n",
            "__________________________________________________________________________________________________\n",
            "conv4_block1_1_relu (Activation (None, 14, 14, 256)  0           conv4_block1_1_bn[0][0]          \n",
            "__________________________________________________________________________________________________\n",
            "conv4_block1_2_conv (Conv2D)    (None, 14, 14, 256)  590080      conv4_block1_1_relu[0][0]        \n",
            "__________________________________________________________________________________________________\n",
            "conv4_block1_2_bn (BatchNormali (None, 14, 14, 256)  1024        conv4_block1_2_conv[0][0]        \n",
            "__________________________________________________________________________________________________\n",
            "conv4_block1_2_relu (Activation (None, 14, 14, 256)  0           conv4_block1_2_bn[0][0]          \n",
            "__________________________________________________________________________________________________\n",
            "conv4_block1_0_conv (Conv2D)    (None, 14, 14, 1024) 525312      conv3_block4_out[0][0]           \n",
            "__________________________________________________________________________________________________\n",
            "conv4_block1_3_conv (Conv2D)    (None, 14, 14, 1024) 263168      conv4_block1_2_relu[0][0]        \n",
            "__________________________________________________________________________________________________\n",
            "conv4_block1_0_bn (BatchNormali (None, 14, 14, 1024) 4096        conv4_block1_0_conv[0][0]        \n",
            "__________________________________________________________________________________________________\n",
            "conv4_block1_3_bn (BatchNormali (None, 14, 14, 1024) 4096        conv4_block1_3_conv[0][0]        \n",
            "__________________________________________________________________________________________________\n",
            "conv4_block1_add (Add)          (None, 14, 14, 1024) 0           conv4_block1_0_bn[0][0]          \n",
            "                                                                 conv4_block1_3_bn[0][0]          \n",
            "__________________________________________________________________________________________________\n",
            "conv4_block1_out (Activation)   (None, 14, 14, 1024) 0           conv4_block1_add[0][0]           \n",
            "__________________________________________________________________________________________________\n",
            "conv4_block2_1_conv (Conv2D)    (None, 14, 14, 256)  262400      conv4_block1_out[0][0]           \n",
            "__________________________________________________________________________________________________\n",
            "conv4_block2_1_bn (BatchNormali (None, 14, 14, 256)  1024        conv4_block2_1_conv[0][0]        \n",
            "__________________________________________________________________________________________________\n",
            "conv4_block2_1_relu (Activation (None, 14, 14, 256)  0           conv4_block2_1_bn[0][0]          \n",
            "__________________________________________________________________________________________________\n",
            "conv4_block2_2_conv (Conv2D)    (None, 14, 14, 256)  590080      conv4_block2_1_relu[0][0]        \n",
            "__________________________________________________________________________________________________\n",
            "conv4_block2_2_bn (BatchNormali (None, 14, 14, 256)  1024        conv4_block2_2_conv[0][0]        \n",
            "__________________________________________________________________________________________________\n",
            "conv4_block2_2_relu (Activation (None, 14, 14, 256)  0           conv4_block2_2_bn[0][0]          \n",
            "__________________________________________________________________________________________________\n",
            "conv4_block2_3_conv (Conv2D)    (None, 14, 14, 1024) 263168      conv4_block2_2_relu[0][0]        \n",
            "__________________________________________________________________________________________________\n",
            "conv4_block2_3_bn (BatchNormali (None, 14, 14, 1024) 4096        conv4_block2_3_conv[0][0]        \n",
            "__________________________________________________________________________________________________\n",
            "conv4_block2_add (Add)          (None, 14, 14, 1024) 0           conv4_block1_out[0][0]           \n",
            "                                                                 conv4_block2_3_bn[0][0]          \n",
            "__________________________________________________________________________________________________\n",
            "conv4_block2_out (Activation)   (None, 14, 14, 1024) 0           conv4_block2_add[0][0]           \n",
            "__________________________________________________________________________________________________\n",
            "conv4_block3_1_conv (Conv2D)    (None, 14, 14, 256)  262400      conv4_block2_out[0][0]           \n",
            "__________________________________________________________________________________________________\n",
            "conv4_block3_1_bn (BatchNormali (None, 14, 14, 256)  1024        conv4_block3_1_conv[0][0]        \n",
            "__________________________________________________________________________________________________\n",
            "conv4_block3_1_relu (Activation (None, 14, 14, 256)  0           conv4_block3_1_bn[0][0]          \n",
            "__________________________________________________________________________________________________\n",
            "conv4_block3_2_conv (Conv2D)    (None, 14, 14, 256)  590080      conv4_block3_1_relu[0][0]        \n",
            "__________________________________________________________________________________________________\n",
            "conv4_block3_2_bn (BatchNormali (None, 14, 14, 256)  1024        conv4_block3_2_conv[0][0]        \n",
            "__________________________________________________________________________________________________\n",
            "conv4_block3_2_relu (Activation (None, 14, 14, 256)  0           conv4_block3_2_bn[0][0]          \n",
            "__________________________________________________________________________________________________\n",
            "conv4_block3_3_conv (Conv2D)    (None, 14, 14, 1024) 263168      conv4_block3_2_relu[0][0]        \n",
            "__________________________________________________________________________________________________\n",
            "conv4_block3_3_bn (BatchNormali (None, 14, 14, 1024) 4096        conv4_block3_3_conv[0][0]        \n",
            "__________________________________________________________________________________________________\n",
            "conv4_block3_add (Add)          (None, 14, 14, 1024) 0           conv4_block2_out[0][0]           \n",
            "                                                                 conv4_block3_3_bn[0][0]          \n",
            "__________________________________________________________________________________________________\n",
            "conv4_block3_out (Activation)   (None, 14, 14, 1024) 0           conv4_block3_add[0][0]           \n",
            "__________________________________________________________________________________________________\n",
            "conv4_block4_1_conv (Conv2D)    (None, 14, 14, 256)  262400      conv4_block3_out[0][0]           \n",
            "__________________________________________________________________________________________________\n",
            "conv4_block4_1_bn (BatchNormali (None, 14, 14, 256)  1024        conv4_block4_1_conv[0][0]        \n",
            "__________________________________________________________________________________________________\n",
            "conv4_block4_1_relu (Activation (None, 14, 14, 256)  0           conv4_block4_1_bn[0][0]          \n",
            "__________________________________________________________________________________________________\n",
            "conv4_block4_2_conv (Conv2D)    (None, 14, 14, 256)  590080      conv4_block4_1_relu[0][0]        \n",
            "__________________________________________________________________________________________________\n",
            "conv4_block4_2_bn (BatchNormali (None, 14, 14, 256)  1024        conv4_block4_2_conv[0][0]        \n",
            "__________________________________________________________________________________________________\n",
            "conv4_block4_2_relu (Activation (None, 14, 14, 256)  0           conv4_block4_2_bn[0][0]          \n",
            "__________________________________________________________________________________________________\n",
            "conv4_block4_3_conv (Conv2D)    (None, 14, 14, 1024) 263168      conv4_block4_2_relu[0][0]        \n",
            "__________________________________________________________________________________________________\n",
            "conv4_block4_3_bn (BatchNormali (None, 14, 14, 1024) 4096        conv4_block4_3_conv[0][0]        \n",
            "__________________________________________________________________________________________________\n",
            "conv4_block4_add (Add)          (None, 14, 14, 1024) 0           conv4_block3_out[0][0]           \n",
            "                                                                 conv4_block4_3_bn[0][0]          \n",
            "__________________________________________________________________________________________________\n",
            "conv4_block4_out (Activation)   (None, 14, 14, 1024) 0           conv4_block4_add[0][0]           \n",
            "__________________________________________________________________________________________________\n",
            "conv4_block5_1_conv (Conv2D)    (None, 14, 14, 256)  262400      conv4_block4_out[0][0]           \n",
            "__________________________________________________________________________________________________\n",
            "conv4_block5_1_bn (BatchNormali (None, 14, 14, 256)  1024        conv4_block5_1_conv[0][0]        \n",
            "__________________________________________________________________________________________________\n",
            "conv4_block5_1_relu (Activation (None, 14, 14, 256)  0           conv4_block5_1_bn[0][0]          \n",
            "__________________________________________________________________________________________________\n",
            "conv4_block5_2_conv (Conv2D)    (None, 14, 14, 256)  590080      conv4_block5_1_relu[0][0]        \n",
            "__________________________________________________________________________________________________\n",
            "conv4_block5_2_bn (BatchNormali (None, 14, 14, 256)  1024        conv4_block5_2_conv[0][0]        \n",
            "__________________________________________________________________________________________________\n",
            "conv4_block5_2_relu (Activation (None, 14, 14, 256)  0           conv4_block5_2_bn[0][0]          \n",
            "__________________________________________________________________________________________________\n",
            "conv4_block5_3_conv (Conv2D)    (None, 14, 14, 1024) 263168      conv4_block5_2_relu[0][0]        \n",
            "__________________________________________________________________________________________________\n",
            "conv4_block5_3_bn (BatchNormali (None, 14, 14, 1024) 4096        conv4_block5_3_conv[0][0]        \n",
            "__________________________________________________________________________________________________\n",
            "conv4_block5_add (Add)          (None, 14, 14, 1024) 0           conv4_block4_out[0][0]           \n",
            "                                                                 conv4_block5_3_bn[0][0]          \n",
            "__________________________________________________________________________________________________\n",
            "conv4_block5_out (Activation)   (None, 14, 14, 1024) 0           conv4_block5_add[0][0]           \n",
            "__________________________________________________________________________________________________\n",
            "conv4_block6_1_conv (Conv2D)    (None, 14, 14, 256)  262400      conv4_block5_out[0][0]           \n",
            "__________________________________________________________________________________________________\n",
            "conv4_block6_1_bn (BatchNormali (None, 14, 14, 256)  1024        conv4_block6_1_conv[0][0]        \n",
            "__________________________________________________________________________________________________\n",
            "conv4_block6_1_relu (Activation (None, 14, 14, 256)  0           conv4_block6_1_bn[0][0]          \n",
            "__________________________________________________________________________________________________\n",
            "conv4_block6_2_conv (Conv2D)    (None, 14, 14, 256)  590080      conv4_block6_1_relu[0][0]        \n",
            "__________________________________________________________________________________________________\n",
            "conv4_block6_2_bn (BatchNormali (None, 14, 14, 256)  1024        conv4_block6_2_conv[0][0]        \n",
            "__________________________________________________________________________________________________\n",
            "conv4_block6_2_relu (Activation (None, 14, 14, 256)  0           conv4_block6_2_bn[0][0]          \n",
            "__________________________________________________________________________________________________\n",
            "conv4_block6_3_conv (Conv2D)    (None, 14, 14, 1024) 263168      conv4_block6_2_relu[0][0]        \n",
            "__________________________________________________________________________________________________\n",
            "conv4_block6_3_bn (BatchNormali (None, 14, 14, 1024) 4096        conv4_block6_3_conv[0][0]        \n",
            "__________________________________________________________________________________________________\n",
            "conv4_block6_add (Add)          (None, 14, 14, 1024) 0           conv4_block5_out[0][0]           \n",
            "                                                                 conv4_block6_3_bn[0][0]          \n",
            "__________________________________________________________________________________________________\n",
            "conv4_block6_out (Activation)   (None, 14, 14, 1024) 0           conv4_block6_add[0][0]           \n",
            "__________________________________________________________________________________________________\n",
            "conv5_block1_1_conv (Conv2D)    (None, 7, 7, 512)    524800      conv4_block6_out[0][0]           \n",
            "__________________________________________________________________________________________________\n",
            "conv5_block1_1_bn (BatchNormali (None, 7, 7, 512)    2048        conv5_block1_1_conv[0][0]        \n",
            "__________________________________________________________________________________________________\n",
            "conv5_block1_1_relu (Activation (None, 7, 7, 512)    0           conv5_block1_1_bn[0][0]          \n",
            "__________________________________________________________________________________________________\n",
            "conv5_block1_2_conv (Conv2D)    (None, 7, 7, 512)    2359808     conv5_block1_1_relu[0][0]        \n",
            "__________________________________________________________________________________________________\n",
            "conv5_block1_2_bn (BatchNormali (None, 7, 7, 512)    2048        conv5_block1_2_conv[0][0]        \n",
            "__________________________________________________________________________________________________\n",
            "conv5_block1_2_relu (Activation (None, 7, 7, 512)    0           conv5_block1_2_bn[0][0]          \n",
            "__________________________________________________________________________________________________\n",
            "conv5_block1_0_conv (Conv2D)    (None, 7, 7, 2048)   2099200     conv4_block6_out[0][0]           \n",
            "__________________________________________________________________________________________________\n",
            "conv5_block1_3_conv (Conv2D)    (None, 7, 7, 2048)   1050624     conv5_block1_2_relu[0][0]        \n",
            "__________________________________________________________________________________________________\n",
            "conv5_block1_0_bn (BatchNormali (None, 7, 7, 2048)   8192        conv5_block1_0_conv[0][0]        \n",
            "__________________________________________________________________________________________________\n",
            "conv5_block1_3_bn (BatchNormali (None, 7, 7, 2048)   8192        conv5_block1_3_conv[0][0]        \n",
            "__________________________________________________________________________________________________\n",
            "conv5_block1_add (Add)          (None, 7, 7, 2048)   0           conv5_block1_0_bn[0][0]          \n",
            "                                                                 conv5_block1_3_bn[0][0]          \n",
            "__________________________________________________________________________________________________\n",
            "conv5_block1_out (Activation)   (None, 7, 7, 2048)   0           conv5_block1_add[0][0]           \n",
            "__________________________________________________________________________________________________\n",
            "conv5_block2_1_conv (Conv2D)    (None, 7, 7, 512)    1049088     conv5_block1_out[0][0]           \n",
            "__________________________________________________________________________________________________\n",
            "conv5_block2_1_bn (BatchNormali (None, 7, 7, 512)    2048        conv5_block2_1_conv[0][0]        \n",
            "__________________________________________________________________________________________________\n",
            "conv5_block2_1_relu (Activation (None, 7, 7, 512)    0           conv5_block2_1_bn[0][0]          \n",
            "__________________________________________________________________________________________________\n",
            "conv5_block2_2_conv (Conv2D)    (None, 7, 7, 512)    2359808     conv5_block2_1_relu[0][0]        \n",
            "__________________________________________________________________________________________________\n",
            "conv5_block2_2_bn (BatchNormali (None, 7, 7, 512)    2048        conv5_block2_2_conv[0][0]        \n",
            "__________________________________________________________________________________________________\n",
            "conv5_block2_2_relu (Activation (None, 7, 7, 512)    0           conv5_block2_2_bn[0][0]          \n",
            "__________________________________________________________________________________________________\n",
            "conv5_block2_3_conv (Conv2D)    (None, 7, 7, 2048)   1050624     conv5_block2_2_relu[0][0]        \n",
            "__________________________________________________________________________________________________\n",
            "conv5_block2_3_bn (BatchNormali (None, 7, 7, 2048)   8192        conv5_block2_3_conv[0][0]        \n",
            "__________________________________________________________________________________________________\n",
            "conv5_block2_add (Add)          (None, 7, 7, 2048)   0           conv5_block1_out[0][0]           \n",
            "                                                                 conv5_block2_3_bn[0][0]          \n",
            "__________________________________________________________________________________________________\n",
            "conv5_block2_out (Activation)   (None, 7, 7, 2048)   0           conv5_block2_add[0][0]           \n",
            "__________________________________________________________________________________________________\n",
            "conv5_block3_1_conv (Conv2D)    (None, 7, 7, 512)    1049088     conv5_block2_out[0][0]           \n",
            "__________________________________________________________________________________________________\n",
            "conv5_block3_1_bn (BatchNormali (None, 7, 7, 512)    2048        conv5_block3_1_conv[0][0]        \n",
            "__________________________________________________________________________________________________\n",
            "conv5_block3_1_relu (Activation (None, 7, 7, 512)    0           conv5_block3_1_bn[0][0]          \n",
            "__________________________________________________________________________________________________\n",
            "conv5_block3_2_conv (Conv2D)    (None, 7, 7, 512)    2359808     conv5_block3_1_relu[0][0]        \n",
            "__________________________________________________________________________________________________\n",
            "conv5_block3_2_bn (BatchNormali (None, 7, 7, 512)    2048        conv5_block3_2_conv[0][0]        \n",
            "__________________________________________________________________________________________________\n",
            "conv5_block3_2_relu (Activation (None, 7, 7, 512)    0           conv5_block3_2_bn[0][0]          \n",
            "__________________________________________________________________________________________________\n",
            "conv5_block3_3_conv (Conv2D)    (None, 7, 7, 2048)   1050624     conv5_block3_2_relu[0][0]        \n",
            "__________________________________________________________________________________________________\n",
            "conv5_block3_3_bn (BatchNormali (None, 7, 7, 2048)   8192        conv5_block3_3_conv[0][0]        \n",
            "__________________________________________________________________________________________________\n",
            "conv5_block3_add (Add)          (None, 7, 7, 2048)   0           conv5_block2_out[0][0]           \n",
            "                                                                 conv5_block3_3_bn[0][0]          \n",
            "__________________________________________________________________________________________________\n",
            "conv5_block3_out (Activation)   (None, 7, 7, 2048)   0           conv5_block3_add[0][0]           \n",
            "==================================================================================================\n",
            "Total params: 23,587,712\n",
            "Trainable params: 23,534,592\n",
            "Non-trainable params: 53,120\n",
            "__________________________________________________________________________________________________\n"
          ],
          "name": "stdout"
        }
      ]
    },
    {
      "cell_type": "markdown",
      "metadata": {
        "id": "B571TxNMebs_"
      },
      "source": [
        "###Head Architecture###\n",
        "What we have now is a ResNet base model without any output layers. Thus, we must construct this part of the model, which will be placed on top of the base model. The architecture of this is completely up to you! Be cognizant of the activation functions you use and the order of your layers."
      ]
    },
    {
      "cell_type": "code",
      "metadata": {
        "id": "9B6da8LIehJ-"
      },
      "source": [
        "import tensorflow as tf\n",
        "from tensorflow.keras.layers import AveragePooling2D\n",
        "from tensorflow.keras.layers import Dropout\n",
        "from tensorflow.keras.layers import Flatten\n",
        "from tensorflow.keras.layers import Dense\n",
        "from tensorflow.keras.layers import Conv2D\n",
        "from tensorflow.keras.layers import BatchNormalization\n",
        "from tensorflow.keras.layers import LeakyReLU\n",
        "\n",
        "#TODO: complete architecture of your model\n",
        "#Hint: think about the output dimension.\n",
        "\n",
        "head = base.output\n",
        "head = Flatten()(head)\n",
        "head = Dense(512, activation='relu')(head)\n",
        "head = BatchNormalization()(head)\n",
        "head = Dropout(0.2)(head)\n",
        "head = Dense(256, kernel_regularizer=tf.keras.regularizers.l2(0.01))(head)\n",
        "head = LeakyReLU(alpha=0.05)(head)\n",
        "head = BatchNormalization()(head)\n",
        "head = Dense(2, activation='softmax')(head)   "
      ],
      "execution_count": null,
      "outputs": []
    },
    {
      "cell_type": "markdown",
      "metadata": {
        "id": "cnPX4oJ9envZ"
      },
      "source": [
        "Now that we have the base model and the head model, we can combine them into one model. This model will be the model we use to train."
      ]
    },
    {
      "cell_type": "code",
      "metadata": {
        "id": "QLnZSsnqelKN"
      },
      "source": [
        "from tensorflow.keras.models import Model\n",
        "\n",
        "model = Model(inputs=base.input, outputs=head)"
      ],
      "execution_count": null,
      "outputs": []
    },
    {
      "cell_type": "markdown",
      "metadata": {
        "id": "eW82dDTceriO"
      },
      "source": [
        "###Freeze Base Layers###\n",
        "We want to ensure that our pretrained ResNet weights from imagenet are not changed during training. Thus, we can freeze those weights specifically."
      ]
    },
    {
      "cell_type": "code",
      "metadata": {
        "id": "hTSg-mYDeudx"
      },
      "source": [
        "#TODO: freeze base model weights\n",
        "for layer in base.layers:\n",
        "  layer.trainable = False"
      ],
      "execution_count": null,
      "outputs": []
    },
    {
      "cell_type": "markdown",
      "metadata": {
        "id": "Nw9zNjpcewtl"
      },
      "source": [
        "Let's now compile the model. Choose a loss function that you think would work best for this task, as well as an appropriate optimizer. The metric you should specify is accuracy."
      ]
    },
    {
      "cell_type": "code",
      "metadata": {
        "id": "_NJBceqJe0mJ"
      },
      "source": [
        "from tensorflow.keras.optimizers import Adam\n",
        "#TODO: compile model\n",
        "model.compile(optimizer = Adam(lr=LR), \n",
        "              loss = 'binary_crossentropy', \n",
        "              metrics = ['accuracy'])"
      ],
      "execution_count": null,
      "outputs": []
    },
    {
      "cell_type": "markdown",
      "metadata": {
        "id": "0SoyFWCZeLe0"
      },
      "source": [
        "### Data augmentation\n",
        "The last thing we need to do before we can start training our model is to initialize our augmentation object for our training set, which will make our model more robust. Specify your desired rotation range and fill mode using ImageDataGenerator from Keras."
      ]
    },
    {
      "cell_type": "code",
      "metadata": {
        "id": "kzi3yvZYeSOy"
      },
      "source": [
        "#TODO: define ImageDataGenerator\n",
        "from tensorflow.keras.preprocessing.image import ImageDataGenerator\n",
        "\n",
        "trainAug = ImageDataGenerator(rotation_range = 40,\n",
        "                              width_shift_range = 0.2,\n",
        "                              height_shift_range = 0.2,\n",
        "                              zoom_range = 0.2,\n",
        "                              fill_mode=\"nearest\")"
      ],
      "execution_count": null,
      "outputs": []
    },
    {
      "cell_type": "markdown",
      "metadata": {
        "id": "ataiZOiKe5du"
      },
      "source": [
        "###Training\n",
        "We can now train the model. Because we are utilizing Keras's ImageDataGenerator, use model.fit_generator as opposed to model.fit.\n",
        "\n",
        "If training is taking a while, check to make sure your runtime type is set to \"GPU\", which can be found in the toolbar: \n",
        "\n",
        "Runtime -> Change runtime type -> Hardware Accelerator: GPU."
      ]
    },
    {
      "cell_type": "code",
      "metadata": {
        "id": "MpiC-2O3e780",
        "colab": {
          "base_uri": "https://localhost:8080/"
        },
        "outputId": "7bbf59e5-3a6e-4fc9-8f74-f317820d69a5"
      },
      "source": [
        "#TODO: train model\n",
        "\n",
        "callback = tf.keras.callbacks.EarlyStopping(monitor=\"val_loss\", \n",
        "                                 patience=8, \n",
        "                                 verbose=0, \n",
        "                                 mode=\"auto\", \n",
        "                                 restore_best_weights=True,)\n",
        "\n",
        "H = model.fit(trainAug.flow(trainX, trainY, batch_size=BATCH_SIZE),\n",
        "              steps_per_epoch=len(trainX)//BATCH_SIZE,\n",
        "              validation_data = (testX, testY),\n",
        "              validation_steps = 20,\n",
        "              epochs = EPOCHS,\n",
        "              callbacks=[callback],\n",
        "              verbose = 2)"
      ],
      "execution_count": null,
      "outputs": [
        {
          "output_type": "stream",
          "text": [
            "Epoch 1/20\n",
            "109/109 - 57s - loss: 3.5367 - accuracy: 0.8183 - val_loss: 3.6135 - val_accuracy: 0.7581\n",
            "Epoch 2/20\n",
            "109/109 - 19s - loss: 2.9003 - accuracy: 0.8545 - val_loss: 3.4180 - val_accuracy: 0.5903\n",
            "Epoch 3/20\n",
            "109/109 - 19s - loss: 2.4391 - accuracy: 0.8626 - val_loss: 3.5876 - val_accuracy: 0.5839\n",
            "Epoch 4/20\n",
            "109/109 - 19s - loss: 2.0987 - accuracy: 0.8534 - val_loss: 2.0315 - val_accuracy: 0.8516\n",
            "Epoch 5/20\n",
            "109/109 - 19s - loss: 1.8283 - accuracy: 0.8643 - val_loss: 1.7340 - val_accuracy: 0.9290\n",
            "Epoch 6/20\n",
            "109/109 - 19s - loss: 1.6041 - accuracy: 0.8729 - val_loss: 1.5500 - val_accuracy: 0.9194\n",
            "Epoch 7/20\n",
            "109/109 - 19s - loss: 1.4164 - accuracy: 0.8787 - val_loss: 2.9403 - val_accuracy: 0.5806\n",
            "Epoch 8/20\n",
            "109/109 - 19s - loss: 1.2822 - accuracy: 0.8844 - val_loss: 1.9518 - val_accuracy: 0.5323\n",
            "Epoch 9/20\n",
            "109/109 - 20s - loss: 1.1407 - accuracy: 0.8959 - val_loss: 1.5215 - val_accuracy: 0.6935\n",
            "Epoch 10/20\n",
            "109/109 - 19s - loss: 1.0609 - accuracy: 0.8896 - val_loss: 1.1822 - val_accuracy: 0.7871\n",
            "Epoch 11/20\n",
            "109/109 - 19s - loss: 0.9985 - accuracy: 0.8867 - val_loss: 0.9642 - val_accuracy: 0.9323\n",
            "Epoch 12/20\n",
            "109/109 - 19s - loss: 0.9252 - accuracy: 0.8879 - val_loss: 1.7567 - val_accuracy: 0.5871\n",
            "Epoch 13/20\n",
            "109/109 - 19s - loss: 0.8806 - accuracy: 0.8815 - val_loss: 1.0382 - val_accuracy: 0.7677\n",
            "Epoch 14/20\n",
            "109/109 - 19s - loss: 0.8070 - accuracy: 0.8936 - val_loss: 0.9260 - val_accuracy: 0.7903\n",
            "Epoch 15/20\n",
            "109/109 - 19s - loss: 0.7615 - accuracy: 0.8994 - val_loss: 5.9506 - val_accuracy: 0.5774\n",
            "Epoch 16/20\n",
            "109/109 - 19s - loss: 0.7208 - accuracy: 0.8982 - val_loss: 2.8180 - val_accuracy: 0.4387\n",
            "Epoch 17/20\n",
            "109/109 - 19s - loss: 0.6825 - accuracy: 0.8994 - val_loss: 1.6957 - val_accuracy: 0.5548\n",
            "Epoch 18/20\n",
            "109/109 - 19s - loss: 0.6728 - accuracy: 0.8913 - val_loss: 0.5629 - val_accuracy: 0.9452\n",
            "Epoch 19/20\n",
            "109/109 - 19s - loss: 0.6175 - accuracy: 0.9011 - val_loss: 0.9466 - val_accuracy: 0.7581\n",
            "Epoch 20/20\n",
            "109/109 - 19s - loss: 0.6246 - accuracy: 0.8833 - val_loss: 0.5084 - val_accuracy: 0.9516\n"
          ],
          "name": "stdout"
        }
      ]
    },
    {
      "cell_type": "markdown",
      "metadata": {
        "id": "-3I-K36we9tb"
      },
      "source": [
        "### Predictions\n",
        "Congrats! You've trained the model. Now let's look at some important metrics to see how well your model performs on the test set."
      ]
    },
    {
      "cell_type": "code",
      "metadata": {
        "id": "6mCKD5H_fEqi",
        "colab": {
          "base_uri": "https://localhost:8080/"
        },
        "outputId": "5bbcb671-dea4-4888-8986-51a6e354994a"
      },
      "source": [
        "from sklearn.metrics import classification_report\n",
        "\n",
        "predIdxs = np.argmax(model.predict(testX, batch_size=BATCH_SIZE), axis=1)\n",
        "\n",
        "print(classification_report(testY.argmax(axis=1), predIdxs,\n",
        "\ttarget_names=lb.classes_))"
      ],
      "execution_count": null,
      "outputs": [
        {
          "output_type": "stream",
          "text": [
            "              precision    recall  f1-score   support\n",
            "\n",
            "       covid       0.95      0.93      0.94       136\n",
            "      normal       0.95      0.97      0.96       174\n",
            "\n",
            "    accuracy                           0.95       310\n",
            "   macro avg       0.95      0.95      0.95       310\n",
            "weighted avg       0.95      0.95      0.95       310\n",
            "\n"
          ],
          "name": "stdout"
        }
      ]
    },
    {
      "cell_type": "markdown",
      "metadata": {
        "id": "JXxRMQ6yfcLU"
      },
      "source": [
        "We can also compute the confusion matrix to find the sensitivity and specificity."
      ]
    },
    {
      "cell_type": "code",
      "metadata": {
        "id": "VfnVOJ0Vff2Z",
        "colab": {
          "base_uri": "https://localhost:8080/"
        },
        "outputId": "9ecf50ab-534e-4b0c-d673-efca2896e72f"
      },
      "source": [
        "from sklearn.metrics import confusion_matrix\n",
        "\n",
        "cm = confusion_matrix(testY.argmax(axis=1), predIdxs)\n",
        "print(cm)\n",
        "\n",
        "#TODO: compute sensitivity and specificity from confusion matrix\n",
        "tn, fp, fn, tp = cm.ravel()\n",
        "sensitivity = tp/(fn+tp)\n",
        "specificity = tn/(fp+tn)\n",
        "print(\"sensitivity: {:.4f}\".format(sensitivity))\n",
        "print(\"specificity: {:.4f}\".format(specificity))"
      ],
      "execution_count": null,
      "outputs": [
        {
          "output_type": "stream",
          "text": [
            "[[127   9]\n",
            " [  6 168]]\n",
            "sensitivity: 0.9655\n",
            "specificity: 0.9338\n"
          ],
          "name": "stdout"
        }
      ]
    },
    {
      "cell_type": "markdown",
      "metadata": {
        "id": "XqTP9N8afxir"
      },
      "source": [
        "### Visualization\n",
        "Let's plot your loss and accuracy metrics."
      ]
    },
    {
      "cell_type": "code",
      "metadata": {
        "id": "_5E3isrrf0Rs",
        "colab": {
          "base_uri": "https://localhost:8080/",
          "height": 299
        },
        "outputId": "3d352b5d-cf82-4941-dfef-9c891fe8331d"
      },
      "source": [
        "import matplotlib.pyplot as plt\n",
        "\n",
        "\n",
        "N = EPOCHS\n",
        "plt.style.use(\"ggplot\")\n",
        "plt.figure()\n",
        "plt.plot(np.arange(0, N), H.history[\"accuracy\"], label=\"Train Accuracy\")\n",
        "plt.plot(np.arange(0, N), H.history[\"val_accuracy\"], label=\"Validation Accuracy\")\n",
        "plt.plot(np.arange(0, N), H.history[\"loss\"], label=\"Train Loss\")\n",
        "plt.plot(np.arange(0, N), H.history[\"val_loss\"], label=\"Validation Loss\")\n",
        "plt.title(\"Loss and Accuracy Plot\")\n",
        "plt.xlabel(\"Epoch\")\n",
        "plt.legend(bbox_to_anchor=(1.05, 1.0), loc='upper left')\n",
        "plt.savefig(\"midterm_plot.png\")"
      ],
      "execution_count": null,
      "outputs": [
        {
          "output_type": "display_data",
          "data": {
            "image/png": "[encoded data removed]",
            "text/plain": [
              "<Figure size 432x288 with 1 Axes>"
            ]
          },
          "metadata": {
            "tags": []
          }
        }
      ]
    },
    {
      "cell_type": "markdown",
      "metadata": {
        "id": "GZKaNt1HAvsW"
      },
      "source": [
        "###Performance\n",
        "\n",
        "Your final hand-in accuracy should be at least 0.75. If it is currently not, try modifying your head architecture. You will also add some additional regularization methods in the conceptual questions below which may help."
      ]
    },
    {
      "cell_type": "markdown",
      "metadata": {
        "id": "ZXhTIP9KaExe"
      },
      "source": [
        "##Conceptual Questions\n",
        "\n",
        "Please answer these questions in the context of this mini-project. For example, there is no issue with the data at all. :-)\n"
      ]
    },
    {
      "cell_type": "markdown",
      "metadata": {
        "id": "dTd2jf1f96mu"
      },
      "source": [
        "1.\n",
        "\n",
        "The base ResNet architecture includes batch normalization, so please also include this in your head model.\n",
        "\n",
        "a. It is a common practice to freeze the batch norm parameters when fine-tuning. Why is this?\n"
      ]
    },
    {
      "cell_type": "markdown",
      "metadata": {
        "id": "_B82518XaH7Z"
      },
      "source": [
        "2.\n",
        "\n",
        "Imagine you plot your training and validation losses per epoch and notice that while your training loss converges to 0.05 at epoch 40, your validation loss hits its minimum at 0.09 at epoch 20 and then steadily climbs up and up to 0.25 at epoch 30.\n",
        "\n",
        "a. Explain why this is occuring.\n",
        "\n",
        "b. Describe what you should set your epoch hyperparameter to in this situation and why. \n",
        "\n",
        "c. Explain three separate techniques on how to combat this phenomenon.\n",
        "\n",
        "d. Implement one of these techniques in your current model (exluding data augmentation as this is already done)."
      ]
    },
    {
      "cell_type": "markdown",
      "metadata": {
        "id": "Xx1gpeIifUb_"
      },
      "source": [
        "*Solutions*\r\n",
        "\r\n",
        "\r\n",
        "1)\r\n",
        "Because the original model is trained on imagenet, which is a totally different distribution comparing to our dataset. It would not only take a long time for the network to learn $\\gamma$ and $\\beta$ in each batch normalization layer of the original architecture if it was not frozen, but also it was trained on a large dataset and would help our classification model, since our dataset of X-ray pictures is small and not enough to capture enough variances of the underlying distribution.\r\n",
        "\r\n",
        "\r\n",
        "2)\r\n",
        "\r\n",
        "a. The model started to overfit on the training data after 20 epochs.\r\n",
        "\r\n",
        "b. Set epoch to 20, so that the training would stop before overfitting. Epoch 20 gives the lowest validation loss.\r\n",
        "\r\n",
        "c. \r\n",
        "1. Add batch normalization layers to recenter the inputs to prevent too much diverging;\r\n",
        "2. Augment the training data so that it captures more variances of the underlying distribution, which may occur in the validation set that are not in our current training set;\r\n",
        "3. Add an early stopping callback which monitors the validation loss, so that it can stop the training automatically when it hits the lowest val_loss.\r\n",
        "\r\n",
        "d. Done.\r\n",
        "\r\n"
      ]
    }
  ]
}