{
  "nbformat": 4,
  "nbformat_minor": 0,
  "metadata": {
    "accelerator": "GPU",
    "colab": {
      "name": "NLP - SARCASMdataset.ipynb",
      "provenance": [],
      "collapsed_sections": [],
      "toc_visible": true
    },
    "kernelspec": {
      "display_name": "Python 3",
      "name": "python3"
    }
  },
  "cells": [
    {
      "cell_type": "code",
      "metadata": {
        "id": "zX4Kg8DUTKWO"
      },
      "source": [
        "#@title Licensed under the Apache License, Version 2.0 (the \"License\");\n",
        "# you may not use this file except in compliance with the License.\n",
        "# You may obtain a copy of the License at\n",
        "#\n",
        "# https://www.apache.org/licenses/LICENSE-2.0\n",
        "#\n",
        "# Unless required by applicable law or agreed to in writing, software\n",
        "# distributed under the License is distributed on an \"AS IS\" BASIS,\n",
        "# WITHOUT WARRANTIES OR CONDITIONS OF ANY KIND, either express or implied.\n",
        "# See the License for the specific language governing permissions and\n",
        "# limitations under the License."
      ],
      "execution_count": null,
      "outputs": []
    },
    {
      "cell_type": "markdown",
      "metadata": {
        "id": "view-in-github"
      },
      "source": [
        "<a href=\"https://colab.research.google.com/github/lmoroney/dlaicourse/blob/master/TensorFlow%20In%20Practice/Course%203%20-%20NLP/Course%203%20-%20Week%202%20-%20Lesson%202.ipynb\" target=\"_parent\"><img src=\"https://colab.research.google.com/assets/colab-badge.svg\" alt=\"Open In Colab\"/></a>"
      ]
    },
    {
      "cell_type": "code",
      "metadata": {
        "id": "4gs9htvM7n_x"
      },
      "source": [
        "# Run this to ensure TensorFlow 2.x is used\n",
        "try:\n",
        "  # %tensorflow_version only exists in Colab.\n",
        "  %tensorflow_version 2.x\n",
        "except Exception:\n",
        "  pass"
      ],
      "execution_count": 1,
      "outputs": []
    },
    {
      "cell_type": "code",
      "metadata": {
        "id": "XYYDvoskkE61"
      },
      "source": [
        "import json\n",
        "import tensorflow as tf\n",
        "\n",
        "from tensorflow.keras.preprocessing.text import Tokenizer\n",
        "from tensorflow.keras.preprocessing.sequence import pad_sequences"
      ],
      "execution_count": 2,
      "outputs": []
    },
    {
      "cell_type": "code",
      "metadata": {
        "id": "0eJSTTYnkJQd"
      },
      "source": [
        "vocab_size = 10000  # 1000\n",
        "embedding_dim = 16\n",
        "max_length = 100\n",
        "trunc_type='post'\n",
        "padding_type='post'\n",
        "oov_tok = \"<OOV>\"\n",
        "training_size = 20000\n"
      ],
      "execution_count": 3,
      "outputs": []
    },
    {
      "cell_type": "code",
      "metadata": {
        "id": "BQVuQrZNkPn9",
        "colab": {
          "base_uri": "https://localhost:8080/"
        },
        "outputId": "e7c15392-d1b5-45c3-f5f1-31b29ad229fe"
      },
      "source": [
        "!wget --no-check-certificate \\\n",
        "    https://storage.googleapis.com/laurencemoroney-blog.appspot.com/sarcasm.json \\\n",
        "    -O /tmp/sarcasm.json\n"
      ],
      "execution_count": 4,
      "outputs": [
        {
          "output_type": "stream",
          "text": [
            "--2021-01-05 23:40:15--  https://storage.googleapis.com/laurencemoroney-blog.appspot.com/sarcasm.json\n",
            "Resolving storage.googleapis.com (storage.googleapis.com)... 142.250.73.240, 142.250.73.208, 172.253.63.128, ...\n",
            "Connecting to storage.googleapis.com (storage.googleapis.com)|142.250.73.240|:443... connected.\n",
            "HTTP request sent, awaiting response... 200 OK\n",
            "Length: 5643545 (5.4M) [application/json]\n",
            "Saving to: ‘/tmp/sarcasm.json’\n",
            "\n",
            "\r/tmp/sarcasm.json     0%[                    ]       0  --.-KB/s               \r/tmp/sarcasm.json   100%[===================>]   5.38M  --.-KB/s    in 0.02s   \n",
            "\n",
            "2021-01-05 23:40:15 (263 MB/s) - ‘/tmp/sarcasm.json’ saved [5643545/5643545]\n",
            "\n"
          ],
          "name": "stdout"
        }
      ]
    },
    {
      "cell_type": "code",
      "metadata": {
        "id": "oaLaaqhNkUPd"
      },
      "source": [
        "with open(\"/tmp/sarcasm.json\", 'r') as f:\n",
        "    datastore = json.load(f)\n",
        "\n",
        "sentences = []\n",
        "labels = []\n",
        "\n",
        "for item in datastore:\n",
        "    sentences.append(item['headline'])\n",
        "    labels.append(item['is_sarcastic'])"
      ],
      "execution_count": 5,
      "outputs": []
    },
    {
      "cell_type": "code",
      "metadata": {
        "id": "S1sD-7v0kYWk"
      },
      "source": [
        "training_sentences = sentences[0:training_size]\n",
        "testing_sentences = sentences[training_size:]\n",
        "training_labels = labels[0:training_size]\n",
        "testing_labels = labels[training_size:]"
      ],
      "execution_count": 6,
      "outputs": []
    },
    {
      "cell_type": "code",
      "metadata": {
        "id": "3u8UB0MCkZ5N"
      },
      "source": [
        "tokenizer = Tokenizer(num_words=vocab_size, oov_token=oov_tok)\n",
        "tokenizer.fit_on_texts(training_sentences)\n",
        "\n",
        "word_index = tokenizer.word_index\n",
        "\n",
        "training_sequences = tokenizer.texts_to_sequences(training_sentences)\n",
        "training_padded = pad_sequences(training_sequences, maxlen=max_length, padding=padding_type, truncating=trunc_type)\n",
        "\n",
        "testing_sequences = tokenizer.texts_to_sequences(testing_sentences)\n",
        "testing_padded = pad_sequences(testing_sequences, maxlen=max_length, padding=padding_type, truncating=trunc_type)"
      ],
      "execution_count": 7,
      "outputs": []
    },
    {
      "cell_type": "code",
      "metadata": {
        "id": "GrAlWBKf99Ya"
      },
      "source": [
        "# Need this block to get it to work with TensorFlow 2.x\n",
        "import numpy as np\n",
        "training_padded = np.array(training_padded)\n",
        "training_labels = np.array(training_labels)\n",
        "testing_padded = np.array(testing_padded)\n",
        "testing_labels = np.array(testing_labels)"
      ],
      "execution_count": 8,
      "outputs": []
    },
    {
      "cell_type": "code",
      "metadata": {
        "id": "FufaT4vlkiDE"
      },
      "source": [
        "model = tf.keras.Sequential([\n",
        "    tf.keras.layers.Embedding(vocab_size, embedding_dim, input_length=max_length),\n",
        "    tf.keras.layers.GlobalAveragePooling1D(),\n",
        "    tf.keras.layers.Dense(24, activation='relu'),\n",
        "    tf.keras.layers.Dense(1, activation='sigmoid')\n",
        "])\n",
        "model.compile(loss='binary_crossentropy',optimizer='adam',metrics=['accuracy'])"
      ],
      "execution_count": 9,
      "outputs": []
    },
    {
      "cell_type": "code",
      "metadata": {
        "id": "XfDt1hmYkiys",
        "colab": {
          "base_uri": "https://localhost:8080/"
        },
        "outputId": "7342a556-a97e-4dde-f601-001a5c9c3bb8"
      },
      "source": [
        "model.summary()\n"
      ],
      "execution_count": 10,
      "outputs": [
        {
          "output_type": "stream",
          "text": [
            "Model: \"sequential\"\n",
            "_________________________________________________________________\n",
            "Layer (type)                 Output Shape              Param #   \n",
            "=================================================================\n",
            "embedding (Embedding)        (None, 100, 16)           160000    \n",
            "_________________________________________________________________\n",
            "global_average_pooling1d (Gl (None, 16)                0         \n",
            "_________________________________________________________________\n",
            "dense (Dense)                (None, 24)                408       \n",
            "_________________________________________________________________\n",
            "dense_1 (Dense)              (None, 1)                 25        \n",
            "=================================================================\n",
            "Total params: 160,433\n",
            "Trainable params: 160,433\n",
            "Non-trainable params: 0\n",
            "_________________________________________________________________\n"
          ],
          "name": "stdout"
        }
      ]
    },
    {
      "cell_type": "code",
      "metadata": {
        "id": "2DTKQFf1kkyc",
        "colab": {
          "base_uri": "https://localhost:8080/"
        },
        "outputId": "789ca375-ed10-4eef-e00c-a43eef6d710a"
      },
      "source": [
        "num_epochs = 30\n",
        "history = model.fit(training_padded, training_labels, epochs=num_epochs, validation_data=(testing_padded, testing_labels), verbose=2)"
      ],
      "execution_count": 11,
      "outputs": [
        {
          "output_type": "stream",
          "text": [
            "Epoch 1/30\n",
            "625/625 - 5s - loss: 0.6611 - accuracy: 0.5874 - val_loss: 0.5664 - val_accuracy: 0.8073\n",
            "Epoch 2/30\n",
            "625/625 - 2s - loss: 0.4226 - accuracy: 0.8364 - val_loss: 0.3831 - val_accuracy: 0.8414\n",
            "Epoch 3/30\n",
            "625/625 - 2s - loss: 0.3070 - accuracy: 0.8807 - val_loss: 0.3530 - val_accuracy: 0.8542\n",
            "Epoch 4/30\n",
            "625/625 - 2s - loss: 0.2569 - accuracy: 0.9011 - val_loss: 0.3450 - val_accuracy: 0.8568\n",
            "Epoch 5/30\n",
            "625/625 - 2s - loss: 0.2223 - accuracy: 0.9137 - val_loss: 0.3499 - val_accuracy: 0.8502\n",
            "Epoch 6/30\n",
            "625/625 - 2s - loss: 0.1939 - accuracy: 0.9267 - val_loss: 0.3533 - val_accuracy: 0.8548\n",
            "Epoch 7/30\n",
            "625/625 - 2s - loss: 0.1753 - accuracy: 0.9346 - val_loss: 0.3640 - val_accuracy: 0.8542\n",
            "Epoch 8/30\n",
            "625/625 - 2s - loss: 0.1565 - accuracy: 0.9418 - val_loss: 0.3949 - val_accuracy: 0.8439\n",
            "Epoch 9/30\n",
            "625/625 - 2s - loss: 0.1383 - accuracy: 0.9507 - val_loss: 0.4016 - val_accuracy: 0.8480\n",
            "Epoch 10/30\n",
            "625/625 - 2s - loss: 0.1268 - accuracy: 0.9549 - val_loss: 0.4187 - val_accuracy: 0.8501\n",
            "Epoch 11/30\n",
            "625/625 - 2s - loss: 0.1150 - accuracy: 0.9599 - val_loss: 0.4385 - val_accuracy: 0.8489\n",
            "Epoch 12/30\n",
            "625/625 - 3s - loss: 0.1053 - accuracy: 0.9641 - val_loss: 0.4639 - val_accuracy: 0.8451\n",
            "Epoch 13/30\n",
            "625/625 - 3s - loss: 0.0963 - accuracy: 0.9674 - val_loss: 0.4937 - val_accuracy: 0.8435\n",
            "Epoch 14/30\n",
            "625/625 - 3s - loss: 0.0869 - accuracy: 0.9702 - val_loss: 0.5242 - val_accuracy: 0.8395\n",
            "Epoch 15/30\n",
            "625/625 - 2s - loss: 0.0796 - accuracy: 0.9739 - val_loss: 0.5683 - val_accuracy: 0.8368\n",
            "Epoch 16/30\n",
            "625/625 - 2s - loss: 0.0728 - accuracy: 0.9768 - val_loss: 0.5917 - val_accuracy: 0.8304\n",
            "Epoch 17/30\n",
            "625/625 - 2s - loss: 0.0665 - accuracy: 0.9793 - val_loss: 0.6280 - val_accuracy: 0.8337\n",
            "Epoch 18/30\n",
            "625/625 - 2s - loss: 0.0613 - accuracy: 0.9808 - val_loss: 0.7263 - val_accuracy: 0.8246\n",
            "Epoch 19/30\n",
            "625/625 - 2s - loss: 0.0562 - accuracy: 0.9821 - val_loss: 0.6915 - val_accuracy: 0.8275\n",
            "Epoch 20/30\n",
            "625/625 - 2s - loss: 0.0524 - accuracy: 0.9836 - val_loss: 0.7297 - val_accuracy: 0.8247\n",
            "Epoch 21/30\n",
            "625/625 - 2s - loss: 0.0476 - accuracy: 0.9853 - val_loss: 0.7672 - val_accuracy: 0.8226\n",
            "Epoch 22/30\n",
            "625/625 - 2s - loss: 0.0425 - accuracy: 0.9878 - val_loss: 0.8479 - val_accuracy: 0.8195\n",
            "Epoch 23/30\n",
            "625/625 - 2s - loss: 0.0406 - accuracy: 0.9876 - val_loss: 0.8499 - val_accuracy: 0.8165\n",
            "Epoch 24/30\n",
            "625/625 - 2s - loss: 0.0380 - accuracy: 0.9881 - val_loss: 0.9026 - val_accuracy: 0.8186\n",
            "Epoch 25/30\n",
            "625/625 - 2s - loss: 0.0335 - accuracy: 0.9905 - val_loss: 0.9394 - val_accuracy: 0.8180\n",
            "Epoch 26/30\n",
            "625/625 - 2s - loss: 0.0320 - accuracy: 0.9905 - val_loss: 0.9889 - val_accuracy: 0.8170\n",
            "Epoch 27/30\n",
            "625/625 - 2s - loss: 0.0287 - accuracy: 0.9919 - val_loss: 1.0051 - val_accuracy: 0.8161\n",
            "Epoch 28/30\n",
            "625/625 - 2s - loss: 0.0283 - accuracy: 0.9921 - val_loss: 1.0595 - val_accuracy: 0.8162\n",
            "Epoch 29/30\n",
            "625/625 - 2s - loss: 0.0246 - accuracy: 0.9930 - val_loss: 1.0896 - val_accuracy: 0.8131\n",
            "Epoch 30/30\n",
            "625/625 - 2s - loss: 0.0216 - accuracy: 0.9944 - val_loss: 1.1198 - val_accuracy: 0.8088\n"
          ],
          "name": "stdout"
        }
      ]
    },
    {
      "cell_type": "code",
      "metadata": {
        "id": "2HYfBKXjkmU8",
        "colab": {
          "base_uri": "https://localhost:8080/",
          "height": 541
        },
        "outputId": "5b7919b7-a4f1-4e14-b3fa-1995c7022f34"
      },
      "source": [
        "import matplotlib.pyplot as plt\n",
        "\n",
        "\n",
        "def plot_graphs(history, string):\n",
        "  plt.plot(history.history[string])\n",
        "  plt.plot(history.history['val_'+string])\n",
        "  plt.xlabel(\"Epochs\")\n",
        "  plt.ylabel(string)\n",
        "  plt.legend([string, 'val_'+string])\n",
        "  plt.show()\n",
        "  \n",
        "plot_graphs(history, \"accuracy\")\n",
        "plot_graphs(history, \"loss\")"
      ],
      "execution_count": 12,
      "outputs": [
        {
          "output_type": "display_data",
          "data": {
            "image/png": "[encoded data removed]",
            "text/plain": [
              "<Figure size 432x288 with 1 Axes>"
            ]
          },
          "metadata": {
            "tags": [],
            "needs_background": "light"
          }
        },
        {
          "output_type": "display_data",
          "data": {
            "image/png": "[encoded data removed]",
            "text/plain": [
              "<Figure size 432x288 with 1 Axes>"
            ]
          },
          "metadata": {
            "tags": [],
            "needs_background": "light"
          }
        }
      ]
    },
    {
      "cell_type": "code",
      "metadata": {
        "id": "7SBdAZAenvzL",
        "colab": {
          "base_uri": "https://localhost:8080/"
        },
        "outputId": "a25f95fb-ef86-4ba7-b0e8-4ff5f1a37547"
      },
      "source": [
        "reverse_word_index = dict([(value, key) for (key, value) in word_index.items()])\n",
        "\n",
        "def decode_sentence(text):\n",
        "    return ' '.join([reverse_word_index.get(i, '?') for i in text])\n",
        "\n",
        "print(decode_sentence(training_padded[0]))\n",
        "print(training_sentences[2])\n",
        "print(labels[2])"
      ],
      "execution_count": 13,
      "outputs": [
        {
          "output_type": "stream",
          "text": [
            "former <OOV> store clerk sues over secret 'black <OOV> for minority shoppers ? ? ? ? ? ? ? ? ? ? ? ? ? ? ? ? ? ? ? ? ? ? ? ? ? ? ? ? ? ? ? ? ? ? ? ? ? ? ? ? ? ? ? ? ? ? ? ? ? ? ? ? ? ? ? ? ? ? ? ? ? ? ? ? ? ? ? ? ? ? ? ? ? ? ? ? ? ? ? ? ? ? ? ? ? ? ? ?\n",
            "mom starting to fear son's web series closest thing she will have to grandchild\n",
            "1\n"
          ],
          "name": "stdout"
        }
      ]
    },
    {
      "cell_type": "code",
      "metadata": {
        "id": "c9MqihtEkzQ9",
        "colab": {
          "base_uri": "https://localhost:8080/"
        },
        "outputId": "8e9cbb93-2b2a-4c53-8430-b930066f4d75"
      },
      "source": [
        "e = model.layers[0]\n",
        "weights = e.get_weights()[0]\n",
        "print(weights.shape) # shape: (vocab_size, embedding_dim)\n"
      ],
      "execution_count": 14,
      "outputs": [
        {
          "output_type": "stream",
          "text": [
            "(10000, 16)\n"
          ],
          "name": "stdout"
        }
      ]
    },
    {
      "cell_type": "code",
      "metadata": {
        "id": "LoBXVffknldU"
      },
      "source": [
        "import io\n",
        "\n",
        "out_v = io.open('vecs.tsv', 'w', encoding='utf-8')\n",
        "out_m = io.open('meta.tsv', 'w', encoding='utf-8')\n",
        "for word_num in range(1, vocab_size):\n",
        "  word = reverse_word_index[word_num]\n",
        "  embeddings = weights[word_num]\n",
        "  out_m.write(word + \"\\n\")\n",
        "  out_v.write('\\t'.join([str(x) for x in embeddings]) + \"\\n\")\n",
        "out_v.close()\n",
        "out_m.close()"
      ],
      "execution_count": null,
      "outputs": []
    },
    {
      "cell_type": "code",
      "metadata": {
        "id": "U4eZ5HtVnnEE"
      },
      "source": [
        "# projector.tensorflow.org\n",
        "\n",
        "try:\n",
        "  from google.colab import files\n",
        "except ImportError:\n",
        "  pass\n",
        "else:\n",
        "  files.download('vecs.tsv')\n",
        "  files.download('meta.tsv')"
      ],
      "execution_count": null,
      "outputs": []
    },
    {
      "cell_type": "code",
      "metadata": {
        "id": "cG8-ArY-qDcz",
        "colab": {
          "base_uri": "https://localhost:8080/"
        },
        "outputId": "5ba8ce26-9429-47d8-841f-49bc68c1ec8c"
      },
      "source": [
        "sentence = [\"granny starting to fear spiders in the garden might be real\", \"game of thrones season finale showing this sunday night\"]\n",
        "sequences = tokenizer.texts_to_sequences(sentence)\n",
        "padded = pad_sequences(sequences, maxlen=max_length, padding=padding_type, truncating=trunc_type)\n",
        "print(model.predict(padded))"
      ],
      "execution_count": 15,
      "outputs": [
        {
          "output_type": "stream",
          "text": [
            "[[9.9175745e-01]\n",
            " [4.5637498e-06]]\n"
          ],
          "name": "stdout"
        }
      ]
    }
  ]
}